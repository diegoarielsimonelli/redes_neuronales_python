{
  "nbformat": 4,
  "nbformat_minor": 0,
  "metadata": {
    "colab": {
      "name": "1_titanic.ipynb",
      "provenance": [],
      "collapsed_sections": [],
      "toc_visible": true
    },
    "kernelspec": {
      "name": "python3",
      "display_name": "Python 3"
    }
  },
  "cells": [
    {
      "cell_type": "markdown",
      "metadata": {
        "id": "67RBrvkUviuj"
      },
      "source": [
        "<a href=\"https://www.inove.com.ar\"><img src=\"https://raw.githubusercontent.com/InoveAlumnos/dataset_analytics_python/master/images/PA%20Banner.png\" width=\"1000\" align=\"center\"></a>\n",
        "\n",
        "\n",
        "# Ejercicio de clasificación con titanic dataset\n",
        "\n",
        "Ejemplo de clasificación utilizando el dataset de titanic<br>\n",
        "\n",
        "v1.1"
      ]
    },
    {
      "cell_type": "code",
      "metadata": {
        "id": "y2sSeyEovSw-"
      },
      "source": [
        "import os\n",
        "import platform\n",
        "\n",
        "import numpy as np\n",
        "import matplotlib.pyplot as plt\n",
        "import seaborn as sns\n",
        "import pandas as pd\n",
        "\n",
        "import keras\n",
        "from keras.models import Sequential\n",
        "#from keras.utils import to_categorical  \n",
        "from tensorflow.keras.utils import to_categorical # Si esto no funciona, probar con el import anterior"
      ],
      "execution_count": 98,
      "outputs": []
    },
    {
      "cell_type": "markdown",
      "metadata": {
        "id": "7Szo7P_3v00C"
      },
      "source": [
        "# Recolectar datos\n",
        "<img src=\"https://raw.githubusercontent.com/InoveAlumnos/dataset_analytics_python/master/images/Pipeline1.png\" width=\"1000\" align=\"middle\">"
      ]
    },
    {
      "cell_type": "code",
      "metadata": {
        "id": "HnVpNGuAvyFi"
      },
      "source": [
        "if os.access('titanic.csv', os.F_OK) is False:\n",
        "    if platform.system() == 'Windows':\n",
        "        !curl https://raw.githubusercontent.com/InoveAlumnos/dataset_analytics_python/master/titanic.csv > titanic.csv\n",
        "    else:\n",
        "        !wget titanic.csv https://raw.githubusercontent.com/InoveAlumnos/dataset_analytics_python/master/titanic.csv"
      ],
      "execution_count": 99,
      "outputs": []
    },
    {
      "cell_type": "markdown",
      "metadata": {
        "id": "BbNSgxdfw0ix"
      },
      "source": [
        "### `titanic.csv`:\n",
        "El dataset **`titanic.csv`** contiene datos sobre los pasajeros que estuvieron en el titanic y si finalmente sobrevivieron o nó al viaje.<br>\n",
        "- **Passengerid** --> id del pasajero, ejemplo 5\n",
        "- **Survived** --> sobrevivió? 1(Si), 0(No)\n",
        "- **Pclass** --> clase (1, 2, 3)\n",
        "- **Name** --> nombre\n",
        "- **Sex** --> genero, ejemplo male(masculino), female(femenino)\n",
        "- **Age** --> edad\n",
        "- **Siblings** --> Hermanos y esposas/esposos abordo\n",
        "- **Parch** --> Hijos abordo\n",
        "- **Ticket** --> Nº de ticket\n",
        "- **Fare** --> tarifa del ticket\n",
        "- **Cabine** --> Nº de cabina\n",
        "- **Embarked** --> Puerto de embarque (C = Cherbourg; Q = Queenstown; S = Southampton)\n"
      ]
    },
    {
      "cell_type": "markdown",
      "metadata": {
        "id": "NHHsGe1Qypde"
      },
      "source": [
        "# Procesar datos\n",
        "<img src=\"https://raw.githubusercontent.com/InoveAlumnos/dataset_analytics_python/master/images/Pipeline2.png\" width=\"1000\" align=\"middle\">"
      ]
    },
    {
      "cell_type": "code",
      "metadata": {
        "id": "uvzaKBMbyoiy",
        "colab": {
          "base_uri": "https://localhost:8080/",
          "height": 363
        },
        "outputId": "69c815b3-fa12-4963-b69a-2139a14e915f"
      },
      "source": [
        "# Alumno, realice una inspeccion del dataset en búsqueda de elementos faltantes\n",
        "df = pd.read_csv('titanic.csv')\n",
        "des = df.describe()\n",
        "des.loc['Nan'] = df.isna().sum()\n",
        "des.loc['%Nan'] = (df.isna().mean())*100\n",
        "des"
      ],
      "execution_count": 100,
      "outputs": [
        {
          "output_type": "execute_result",
          "data": {
            "text/html": [
              "<div>\n",
              "<style scoped>\n",
              "    .dataframe tbody tr th:only-of-type {\n",
              "        vertical-align: middle;\n",
              "    }\n",
              "\n",
              "    .dataframe tbody tr th {\n",
              "        vertical-align: top;\n",
              "    }\n",
              "\n",
              "    .dataframe thead th {\n",
              "        text-align: right;\n",
              "    }\n",
              "</style>\n",
              "<table border=\"1\" class=\"dataframe\">\n",
              "  <thead>\n",
              "    <tr style=\"text-align: right;\">\n",
              "      <th></th>\n",
              "      <th>PassengerId</th>\n",
              "      <th>Survived</th>\n",
              "      <th>Pclass</th>\n",
              "      <th>Age</th>\n",
              "      <th>SibSp</th>\n",
              "      <th>Parch</th>\n",
              "      <th>Fare</th>\n",
              "    </tr>\n",
              "  </thead>\n",
              "  <tbody>\n",
              "    <tr>\n",
              "      <th>count</th>\n",
              "      <td>891.000000</td>\n",
              "      <td>891.000000</td>\n",
              "      <td>891.000000</td>\n",
              "      <td>714.000000</td>\n",
              "      <td>891.000000</td>\n",
              "      <td>891.000000</td>\n",
              "      <td>891.000000</td>\n",
              "    </tr>\n",
              "    <tr>\n",
              "      <th>mean</th>\n",
              "      <td>446.000000</td>\n",
              "      <td>0.383838</td>\n",
              "      <td>2.308642</td>\n",
              "      <td>29.699118</td>\n",
              "      <td>0.523008</td>\n",
              "      <td>0.381594</td>\n",
              "      <td>32.204208</td>\n",
              "    </tr>\n",
              "    <tr>\n",
              "      <th>std</th>\n",
              "      <td>257.353842</td>\n",
              "      <td>0.486592</td>\n",
              "      <td>0.836071</td>\n",
              "      <td>14.526497</td>\n",
              "      <td>1.102743</td>\n",
              "      <td>0.806057</td>\n",
              "      <td>49.693429</td>\n",
              "    </tr>\n",
              "    <tr>\n",
              "      <th>min</th>\n",
              "      <td>1.000000</td>\n",
              "      <td>0.000000</td>\n",
              "      <td>1.000000</td>\n",
              "      <td>0.420000</td>\n",
              "      <td>0.000000</td>\n",
              "      <td>0.000000</td>\n",
              "      <td>0.000000</td>\n",
              "    </tr>\n",
              "    <tr>\n",
              "      <th>25%</th>\n",
              "      <td>223.500000</td>\n",
              "      <td>0.000000</td>\n",
              "      <td>2.000000</td>\n",
              "      <td>20.125000</td>\n",
              "      <td>0.000000</td>\n",
              "      <td>0.000000</td>\n",
              "      <td>7.910400</td>\n",
              "    </tr>\n",
              "    <tr>\n",
              "      <th>50%</th>\n",
              "      <td>446.000000</td>\n",
              "      <td>0.000000</td>\n",
              "      <td>3.000000</td>\n",
              "      <td>28.000000</td>\n",
              "      <td>0.000000</td>\n",
              "      <td>0.000000</td>\n",
              "      <td>14.454200</td>\n",
              "    </tr>\n",
              "    <tr>\n",
              "      <th>75%</th>\n",
              "      <td>668.500000</td>\n",
              "      <td>1.000000</td>\n",
              "      <td>3.000000</td>\n",
              "      <td>38.000000</td>\n",
              "      <td>1.000000</td>\n",
              "      <td>0.000000</td>\n",
              "      <td>31.000000</td>\n",
              "    </tr>\n",
              "    <tr>\n",
              "      <th>max</th>\n",
              "      <td>891.000000</td>\n",
              "      <td>1.000000</td>\n",
              "      <td>3.000000</td>\n",
              "      <td>80.000000</td>\n",
              "      <td>8.000000</td>\n",
              "      <td>6.000000</td>\n",
              "      <td>512.329200</td>\n",
              "    </tr>\n",
              "    <tr>\n",
              "      <th>Nan</th>\n",
              "      <td>0.000000</td>\n",
              "      <td>0.000000</td>\n",
              "      <td>0.000000</td>\n",
              "      <td>177.000000</td>\n",
              "      <td>0.000000</td>\n",
              "      <td>0.000000</td>\n",
              "      <td>0.000000</td>\n",
              "    </tr>\n",
              "    <tr>\n",
              "      <th>%Nan</th>\n",
              "      <td>0.000000</td>\n",
              "      <td>0.000000</td>\n",
              "      <td>0.000000</td>\n",
              "      <td>19.865320</td>\n",
              "      <td>0.000000</td>\n",
              "      <td>0.000000</td>\n",
              "      <td>0.000000</td>\n",
              "    </tr>\n",
              "  </tbody>\n",
              "</table>\n",
              "</div>"
            ],
            "text/plain": [
              "       PassengerId    Survived      Pclass  ...       SibSp       Parch        Fare\n",
              "count   891.000000  891.000000  891.000000  ...  891.000000  891.000000  891.000000\n",
              "mean    446.000000    0.383838    2.308642  ...    0.523008    0.381594   32.204208\n",
              "std     257.353842    0.486592    0.836071  ...    1.102743    0.806057   49.693429\n",
              "min       1.000000    0.000000    1.000000  ...    0.000000    0.000000    0.000000\n",
              "25%     223.500000    0.000000    2.000000  ...    0.000000    0.000000    7.910400\n",
              "50%     446.000000    0.000000    3.000000  ...    0.000000    0.000000   14.454200\n",
              "75%     668.500000    1.000000    3.000000  ...    1.000000    0.000000   31.000000\n",
              "max     891.000000    1.000000    3.000000  ...    8.000000    6.000000  512.329200\n",
              "Nan       0.000000    0.000000    0.000000  ...    0.000000    0.000000    0.000000\n",
              "%Nan      0.000000    0.000000    0.000000  ...    0.000000    0.000000    0.000000\n",
              "\n",
              "[10 rows x 7 columns]"
            ]
          },
          "metadata": {},
          "execution_count": 100
        }
      ]
    },
    {
      "cell_type": "code",
      "metadata": {
        "id": "Cw9HbE88y3wu",
        "colab": {
          "base_uri": "https://localhost:8080/",
          "height": 276
        },
        "outputId": "da27e114-30fc-4874-cac4-edfa0c5f0b30"
      },
      "source": [
        "# Alumno, inspeccione el dataset, visualice las columnas que posee y sus primeras filas\n",
        "df.head()\n"
      ],
      "execution_count": 101,
      "outputs": [
        {
          "output_type": "execute_result",
          "data": {
            "text/html": [
              "<div>\n",
              "<style scoped>\n",
              "    .dataframe tbody tr th:only-of-type {\n",
              "        vertical-align: middle;\n",
              "    }\n",
              "\n",
              "    .dataframe tbody tr th {\n",
              "        vertical-align: top;\n",
              "    }\n",
              "\n",
              "    .dataframe thead th {\n",
              "        text-align: right;\n",
              "    }\n",
              "</style>\n",
              "<table border=\"1\" class=\"dataframe\">\n",
              "  <thead>\n",
              "    <tr style=\"text-align: right;\">\n",
              "      <th></th>\n",
              "      <th>PassengerId</th>\n",
              "      <th>Survived</th>\n",
              "      <th>Pclass</th>\n",
              "      <th>Name</th>\n",
              "      <th>Sex</th>\n",
              "      <th>Age</th>\n",
              "      <th>SibSp</th>\n",
              "      <th>Parch</th>\n",
              "      <th>Ticket</th>\n",
              "      <th>Fare</th>\n",
              "      <th>Cabin</th>\n",
              "      <th>Embarked</th>\n",
              "    </tr>\n",
              "  </thead>\n",
              "  <tbody>\n",
              "    <tr>\n",
              "      <th>0</th>\n",
              "      <td>1</td>\n",
              "      <td>0</td>\n",
              "      <td>3</td>\n",
              "      <td>Braund, Mr. Owen Harris</td>\n",
              "      <td>male</td>\n",
              "      <td>22.0</td>\n",
              "      <td>1</td>\n",
              "      <td>0</td>\n",
              "      <td>A/5 21171</td>\n",
              "      <td>7.2500</td>\n",
              "      <td>NaN</td>\n",
              "      <td>S</td>\n",
              "    </tr>\n",
              "    <tr>\n",
              "      <th>1</th>\n",
              "      <td>2</td>\n",
              "      <td>1</td>\n",
              "      <td>1</td>\n",
              "      <td>Cumings, Mrs. John Bradley (Florence Briggs Th...</td>\n",
              "      <td>female</td>\n",
              "      <td>38.0</td>\n",
              "      <td>1</td>\n",
              "      <td>0</td>\n",
              "      <td>PC 17599</td>\n",
              "      <td>71.2833</td>\n",
              "      <td>C85</td>\n",
              "      <td>C</td>\n",
              "    </tr>\n",
              "    <tr>\n",
              "      <th>2</th>\n",
              "      <td>3</td>\n",
              "      <td>1</td>\n",
              "      <td>3</td>\n",
              "      <td>Heikkinen, Miss. Laina</td>\n",
              "      <td>female</td>\n",
              "      <td>26.0</td>\n",
              "      <td>0</td>\n",
              "      <td>0</td>\n",
              "      <td>STON/O2. 3101282</td>\n",
              "      <td>7.9250</td>\n",
              "      <td>NaN</td>\n",
              "      <td>S</td>\n",
              "    </tr>\n",
              "    <tr>\n",
              "      <th>3</th>\n",
              "      <td>4</td>\n",
              "      <td>1</td>\n",
              "      <td>1</td>\n",
              "      <td>Futrelle, Mrs. Jacques Heath (Lily May Peel)</td>\n",
              "      <td>female</td>\n",
              "      <td>35.0</td>\n",
              "      <td>1</td>\n",
              "      <td>0</td>\n",
              "      <td>113803</td>\n",
              "      <td>53.1000</td>\n",
              "      <td>C123</td>\n",
              "      <td>S</td>\n",
              "    </tr>\n",
              "    <tr>\n",
              "      <th>4</th>\n",
              "      <td>5</td>\n",
              "      <td>0</td>\n",
              "      <td>3</td>\n",
              "      <td>Allen, Mr. William Henry</td>\n",
              "      <td>male</td>\n",
              "      <td>35.0</td>\n",
              "      <td>0</td>\n",
              "      <td>0</td>\n",
              "      <td>373450</td>\n",
              "      <td>8.0500</td>\n",
              "      <td>NaN</td>\n",
              "      <td>S</td>\n",
              "    </tr>\n",
              "  </tbody>\n",
              "</table>\n",
              "</div>"
            ],
            "text/plain": [
              "   PassengerId  Survived  Pclass  ...     Fare Cabin  Embarked\n",
              "0            1         0       3  ...   7.2500   NaN         S\n",
              "1            2         1       1  ...  71.2833   C85         C\n",
              "2            3         1       3  ...   7.9250   NaN         S\n",
              "3            4         1       1  ...  53.1000  C123         S\n",
              "4            5         0       3  ...   8.0500   NaN         S\n",
              "\n",
              "[5 rows x 12 columns]"
            ]
          },
          "metadata": {},
          "execution_count": 101
        }
      ]
    },
    {
      "cell_type": "code",
      "metadata": {
        "id": "9g4_cql61J5m",
        "colab": {
          "base_uri": "https://localhost:8080/",
          "height": 424
        },
        "outputId": "1180f023-5487-470a-eda5-42c95a54665d"
      },
      "source": [
        "# Alumno, del dataset original cree uno nuevo pero\n",
        "# unicamente con las siguientes columnas:\n",
        "# Survived, Pclass, Sex, Age, SibSp, Parch\n",
        "df_clean = df[['Survived', 'Pclass', 'Sex', 'Age', 'SibSp', 'Parch']]\n",
        "df_clean"
      ],
      "execution_count": 102,
      "outputs": [
        {
          "output_type": "execute_result",
          "data": {
            "text/html": [
              "<div>\n",
              "<style scoped>\n",
              "    .dataframe tbody tr th:only-of-type {\n",
              "        vertical-align: middle;\n",
              "    }\n",
              "\n",
              "    .dataframe tbody tr th {\n",
              "        vertical-align: top;\n",
              "    }\n",
              "\n",
              "    .dataframe thead th {\n",
              "        text-align: right;\n",
              "    }\n",
              "</style>\n",
              "<table border=\"1\" class=\"dataframe\">\n",
              "  <thead>\n",
              "    <tr style=\"text-align: right;\">\n",
              "      <th></th>\n",
              "      <th>Survived</th>\n",
              "      <th>Pclass</th>\n",
              "      <th>Sex</th>\n",
              "      <th>Age</th>\n",
              "      <th>SibSp</th>\n",
              "      <th>Parch</th>\n",
              "    </tr>\n",
              "  </thead>\n",
              "  <tbody>\n",
              "    <tr>\n",
              "      <th>0</th>\n",
              "      <td>0</td>\n",
              "      <td>3</td>\n",
              "      <td>male</td>\n",
              "      <td>22.0</td>\n",
              "      <td>1</td>\n",
              "      <td>0</td>\n",
              "    </tr>\n",
              "    <tr>\n",
              "      <th>1</th>\n",
              "      <td>1</td>\n",
              "      <td>1</td>\n",
              "      <td>female</td>\n",
              "      <td>38.0</td>\n",
              "      <td>1</td>\n",
              "      <td>0</td>\n",
              "    </tr>\n",
              "    <tr>\n",
              "      <th>2</th>\n",
              "      <td>1</td>\n",
              "      <td>3</td>\n",
              "      <td>female</td>\n",
              "      <td>26.0</td>\n",
              "      <td>0</td>\n",
              "      <td>0</td>\n",
              "    </tr>\n",
              "    <tr>\n",
              "      <th>3</th>\n",
              "      <td>1</td>\n",
              "      <td>1</td>\n",
              "      <td>female</td>\n",
              "      <td>35.0</td>\n",
              "      <td>1</td>\n",
              "      <td>0</td>\n",
              "    </tr>\n",
              "    <tr>\n",
              "      <th>4</th>\n",
              "      <td>0</td>\n",
              "      <td>3</td>\n",
              "      <td>male</td>\n",
              "      <td>35.0</td>\n",
              "      <td>0</td>\n",
              "      <td>0</td>\n",
              "    </tr>\n",
              "    <tr>\n",
              "      <th>...</th>\n",
              "      <td>...</td>\n",
              "      <td>...</td>\n",
              "      <td>...</td>\n",
              "      <td>...</td>\n",
              "      <td>...</td>\n",
              "      <td>...</td>\n",
              "    </tr>\n",
              "    <tr>\n",
              "      <th>886</th>\n",
              "      <td>0</td>\n",
              "      <td>2</td>\n",
              "      <td>male</td>\n",
              "      <td>27.0</td>\n",
              "      <td>0</td>\n",
              "      <td>0</td>\n",
              "    </tr>\n",
              "    <tr>\n",
              "      <th>887</th>\n",
              "      <td>1</td>\n",
              "      <td>1</td>\n",
              "      <td>female</td>\n",
              "      <td>19.0</td>\n",
              "      <td>0</td>\n",
              "      <td>0</td>\n",
              "    </tr>\n",
              "    <tr>\n",
              "      <th>888</th>\n",
              "      <td>0</td>\n",
              "      <td>3</td>\n",
              "      <td>female</td>\n",
              "      <td>NaN</td>\n",
              "      <td>1</td>\n",
              "      <td>2</td>\n",
              "    </tr>\n",
              "    <tr>\n",
              "      <th>889</th>\n",
              "      <td>1</td>\n",
              "      <td>1</td>\n",
              "      <td>male</td>\n",
              "      <td>26.0</td>\n",
              "      <td>0</td>\n",
              "      <td>0</td>\n",
              "    </tr>\n",
              "    <tr>\n",
              "      <th>890</th>\n",
              "      <td>0</td>\n",
              "      <td>3</td>\n",
              "      <td>male</td>\n",
              "      <td>32.0</td>\n",
              "      <td>0</td>\n",
              "      <td>0</td>\n",
              "    </tr>\n",
              "  </tbody>\n",
              "</table>\n",
              "<p>891 rows × 6 columns</p>\n",
              "</div>"
            ],
            "text/plain": [
              "     Survived  Pclass     Sex   Age  SibSp  Parch\n",
              "0           0       3    male  22.0      1      0\n",
              "1           1       1  female  38.0      1      0\n",
              "2           1       3  female  26.0      0      0\n",
              "3           1       1  female  35.0      1      0\n",
              "4           0       3    male  35.0      0      0\n",
              "..        ...     ...     ...   ...    ...    ...\n",
              "886         0       2    male  27.0      0      0\n",
              "887         1       1  female  19.0      0      0\n",
              "888         0       3  female   NaN      1      2\n",
              "889         1       1    male  26.0      0      0\n",
              "890         0       3    male  32.0      0      0\n",
              "\n",
              "[891 rows x 6 columns]"
            ]
          },
          "metadata": {},
          "execution_count": 102
        }
      ]
    },
    {
      "cell_type": "code",
      "metadata": {
        "id": "aPr3AkXM1DkO",
        "colab": {
          "base_uri": "https://localhost:8080/",
          "height": 424
        },
        "outputId": "310c435c-89de-4101-d558-a4e701416aea"
      },
      "source": [
        "# Alumno, en caso de encontrarse elementos faltantes,\n",
        "# elimine aquellas filas que tengan columnas vacias\n",
        "# Escriba el procedimiento tenga o no elementos faltantes\n",
        "df_clean = df_clean.dropna()\n",
        "df_clean.reset_index(drop=True, inplace=True)\n",
        "df_clean"
      ],
      "execution_count": 103,
      "outputs": [
        {
          "output_type": "execute_result",
          "data": {
            "text/html": [
              "<div>\n",
              "<style scoped>\n",
              "    .dataframe tbody tr th:only-of-type {\n",
              "        vertical-align: middle;\n",
              "    }\n",
              "\n",
              "    .dataframe tbody tr th {\n",
              "        vertical-align: top;\n",
              "    }\n",
              "\n",
              "    .dataframe thead th {\n",
              "        text-align: right;\n",
              "    }\n",
              "</style>\n",
              "<table border=\"1\" class=\"dataframe\">\n",
              "  <thead>\n",
              "    <tr style=\"text-align: right;\">\n",
              "      <th></th>\n",
              "      <th>Survived</th>\n",
              "      <th>Pclass</th>\n",
              "      <th>Sex</th>\n",
              "      <th>Age</th>\n",
              "      <th>SibSp</th>\n",
              "      <th>Parch</th>\n",
              "    </tr>\n",
              "  </thead>\n",
              "  <tbody>\n",
              "    <tr>\n",
              "      <th>0</th>\n",
              "      <td>0</td>\n",
              "      <td>3</td>\n",
              "      <td>male</td>\n",
              "      <td>22.0</td>\n",
              "      <td>1</td>\n",
              "      <td>0</td>\n",
              "    </tr>\n",
              "    <tr>\n",
              "      <th>1</th>\n",
              "      <td>1</td>\n",
              "      <td>1</td>\n",
              "      <td>female</td>\n",
              "      <td>38.0</td>\n",
              "      <td>1</td>\n",
              "      <td>0</td>\n",
              "    </tr>\n",
              "    <tr>\n",
              "      <th>2</th>\n",
              "      <td>1</td>\n",
              "      <td>3</td>\n",
              "      <td>female</td>\n",
              "      <td>26.0</td>\n",
              "      <td>0</td>\n",
              "      <td>0</td>\n",
              "    </tr>\n",
              "    <tr>\n",
              "      <th>3</th>\n",
              "      <td>1</td>\n",
              "      <td>1</td>\n",
              "      <td>female</td>\n",
              "      <td>35.0</td>\n",
              "      <td>1</td>\n",
              "      <td>0</td>\n",
              "    </tr>\n",
              "    <tr>\n",
              "      <th>4</th>\n",
              "      <td>0</td>\n",
              "      <td>3</td>\n",
              "      <td>male</td>\n",
              "      <td>35.0</td>\n",
              "      <td>0</td>\n",
              "      <td>0</td>\n",
              "    </tr>\n",
              "    <tr>\n",
              "      <th>...</th>\n",
              "      <td>...</td>\n",
              "      <td>...</td>\n",
              "      <td>...</td>\n",
              "      <td>...</td>\n",
              "      <td>...</td>\n",
              "      <td>...</td>\n",
              "    </tr>\n",
              "    <tr>\n",
              "      <th>709</th>\n",
              "      <td>0</td>\n",
              "      <td>3</td>\n",
              "      <td>female</td>\n",
              "      <td>39.0</td>\n",
              "      <td>0</td>\n",
              "      <td>5</td>\n",
              "    </tr>\n",
              "    <tr>\n",
              "      <th>710</th>\n",
              "      <td>0</td>\n",
              "      <td>2</td>\n",
              "      <td>male</td>\n",
              "      <td>27.0</td>\n",
              "      <td>0</td>\n",
              "      <td>0</td>\n",
              "    </tr>\n",
              "    <tr>\n",
              "      <th>711</th>\n",
              "      <td>1</td>\n",
              "      <td>1</td>\n",
              "      <td>female</td>\n",
              "      <td>19.0</td>\n",
              "      <td>0</td>\n",
              "      <td>0</td>\n",
              "    </tr>\n",
              "    <tr>\n",
              "      <th>712</th>\n",
              "      <td>1</td>\n",
              "      <td>1</td>\n",
              "      <td>male</td>\n",
              "      <td>26.0</td>\n",
              "      <td>0</td>\n",
              "      <td>0</td>\n",
              "    </tr>\n",
              "    <tr>\n",
              "      <th>713</th>\n",
              "      <td>0</td>\n",
              "      <td>3</td>\n",
              "      <td>male</td>\n",
              "      <td>32.0</td>\n",
              "      <td>0</td>\n",
              "      <td>0</td>\n",
              "    </tr>\n",
              "  </tbody>\n",
              "</table>\n",
              "<p>714 rows × 6 columns</p>\n",
              "</div>"
            ],
            "text/plain": [
              "     Survived  Pclass     Sex   Age  SibSp  Parch\n",
              "0           0       3    male  22.0      1      0\n",
              "1           1       1  female  38.0      1      0\n",
              "2           1       3  female  26.0      0      0\n",
              "3           1       1  female  35.0      1      0\n",
              "4           0       3    male  35.0      0      0\n",
              "..        ...     ...     ...   ...    ...    ...\n",
              "709         0       3  female  39.0      0      5\n",
              "710         0       2    male  27.0      0      0\n",
              "711         1       1  female  19.0      0      0\n",
              "712         1       1    male  26.0      0      0\n",
              "713         0       3    male  32.0      0      0\n",
              "\n",
              "[714 rows x 6 columns]"
            ]
          },
          "metadata": {},
          "execution_count": 103
        }
      ]
    },
    {
      "cell_type": "code",
      "metadata": {
        "id": "LirgXKpiy8dr",
        "colab": {
          "base_uri": "https://localhost:8080/"
        },
        "outputId": "09c6e9fc-28c9-4a00-948d-106f8d99a15c"
      },
      "source": [
        "# Alumno: Fin de la limpieza, especifique cuantas filas se poseen para analizar\n",
        "print('Cantidad de datos en observacion:', df_clean.shape[0])"
      ],
      "execution_count": 104,
      "outputs": [
        {
          "output_type": "stream",
          "name": "stdout",
          "text": [
            "Cantidad de datos en observacion: 714\n"
          ]
        }
      ]
    },
    {
      "cell_type": "markdown",
      "metadata": {
        "id": "0BnzYdlRzBxz"
      },
      "source": [
        "# Explorar datos\n",
        "<img src=\"https://raw.githubusercontent.com/InoveAlumnos/dataset_analytics_python/master/images/Pipeline3.png\" width=\"1000\" align=\"middle\">"
      ]
    },
    {
      "cell_type": "code",
      "metadata": {
        "id": "ujLgPJYo18IR",
        "colab": {
          "base_uri": "https://localhost:8080/",
          "height": 206
        },
        "outputId": "5d0f2595-6321-4165-a0b0-5ec425cc8e51"
      },
      "source": [
        "# Alumno, inspeccione el dataset, visualice las columnas que posee y sus primeras filas\n",
        "df_clean.head()"
      ],
      "execution_count": 105,
      "outputs": [
        {
          "output_type": "execute_result",
          "data": {
            "text/html": [
              "<div>\n",
              "<style scoped>\n",
              "    .dataframe tbody tr th:only-of-type {\n",
              "        vertical-align: middle;\n",
              "    }\n",
              "\n",
              "    .dataframe tbody tr th {\n",
              "        vertical-align: top;\n",
              "    }\n",
              "\n",
              "    .dataframe thead th {\n",
              "        text-align: right;\n",
              "    }\n",
              "</style>\n",
              "<table border=\"1\" class=\"dataframe\">\n",
              "  <thead>\n",
              "    <tr style=\"text-align: right;\">\n",
              "      <th></th>\n",
              "      <th>Survived</th>\n",
              "      <th>Pclass</th>\n",
              "      <th>Sex</th>\n",
              "      <th>Age</th>\n",
              "      <th>SibSp</th>\n",
              "      <th>Parch</th>\n",
              "    </tr>\n",
              "  </thead>\n",
              "  <tbody>\n",
              "    <tr>\n",
              "      <th>0</th>\n",
              "      <td>0</td>\n",
              "      <td>3</td>\n",
              "      <td>male</td>\n",
              "      <td>22.0</td>\n",
              "      <td>1</td>\n",
              "      <td>0</td>\n",
              "    </tr>\n",
              "    <tr>\n",
              "      <th>1</th>\n",
              "      <td>1</td>\n",
              "      <td>1</td>\n",
              "      <td>female</td>\n",
              "      <td>38.0</td>\n",
              "      <td>1</td>\n",
              "      <td>0</td>\n",
              "    </tr>\n",
              "    <tr>\n",
              "      <th>2</th>\n",
              "      <td>1</td>\n",
              "      <td>3</td>\n",
              "      <td>female</td>\n",
              "      <td>26.0</td>\n",
              "      <td>0</td>\n",
              "      <td>0</td>\n",
              "    </tr>\n",
              "    <tr>\n",
              "      <th>3</th>\n",
              "      <td>1</td>\n",
              "      <td>1</td>\n",
              "      <td>female</td>\n",
              "      <td>35.0</td>\n",
              "      <td>1</td>\n",
              "      <td>0</td>\n",
              "    </tr>\n",
              "    <tr>\n",
              "      <th>4</th>\n",
              "      <td>0</td>\n",
              "      <td>3</td>\n",
              "      <td>male</td>\n",
              "      <td>35.0</td>\n",
              "      <td>0</td>\n",
              "      <td>0</td>\n",
              "    </tr>\n",
              "  </tbody>\n",
              "</table>\n",
              "</div>"
            ],
            "text/plain": [
              "   Survived  Pclass     Sex   Age  SibSp  Parch\n",
              "0         0       3    male  22.0      1      0\n",
              "1         1       1  female  38.0      1      0\n",
              "2         1       3  female  26.0      0      0\n",
              "3         1       1  female  35.0      1      0\n",
              "4         0       3    male  35.0      0      0"
            ]
          },
          "metadata": {},
          "execution_count": 105
        }
      ]
    },
    {
      "cell_type": "code",
      "metadata": {
        "id": "yH6oDykAzBMG",
        "colab": {
          "base_uri": "https://localhost:8080/"
        },
        "outputId": "80ffde3d-0898-4ca0-aee3-50da0825932e"
      },
      "source": [
        "# Alumno: Explorar que tan balanceado está el dataset,\n",
        "# determinar cuantas personas sobrivivieron o nó\n",
        "df_clean['Survived'].value_counts()"
      ],
      "execution_count": 106,
      "outputs": [
        {
          "output_type": "execute_result",
          "data": {
            "text/plain": [
              "0    424\n",
              "1    290\n",
              "Name: Survived, dtype: int64"
            ]
          },
          "metadata": {},
          "execution_count": 106
        }
      ]
    },
    {
      "cell_type": "code",
      "metadata": {
        "id": "uPNDkywTzazk",
        "colab": {
          "base_uri": "https://localhost:8080/",
          "height": 279
        },
        "outputId": "c16aba3e-ecb3-4fc5-9f70-caf88863b3b1"
      },
      "source": [
        "# Alumno: Determinar cuantas personas sobrevivieron\n",
        "# diferenciando por género\n",
        "# Utilice el gráfico de seaborn countplot con hue=\"Sex\"\n",
        "ax = sns.countplot(data=df_clean, x=\"Survived\",hue='Sex')"
      ],
      "execution_count": 107,
      "outputs": [
        {
          "output_type": "display_data",
          "data": {
            "image/png": "[encoded data removed]",
            "text/plain": [
              "<Figure size 432x288 with 1 Axes>"
            ]
          },
          "metadata": {
            "needs_background": "light"
          }
        }
      ]
    },
    {
      "cell_type": "code",
      "metadata": {
        "id": "WWbxZLQ5ytEP",
        "colab": {
          "base_uri": "https://localhost:8080/",
          "height": 279
        },
        "outputId": "5e1b38a6-d20c-477c-d627-5fd63ba8d886"
      },
      "source": [
        "# Alumno: Determinar cuantas personas había de cada clase\n",
        "# Utilice el gráfico de seaborn countplot\n",
        "ax = sns.countplot(data=df_clean, x=\"Pclass\")"
      ],
      "execution_count": 108,
      "outputs": [
        {
          "output_type": "display_data",
          "data": {
            "image/png": "[encoded data removed]",
            "text/plain": [
              "<Figure size 432x288 with 1 Axes>"
            ]
          },
          "metadata": {
            "needs_background": "light"
          }
        }
      ]
    },
    {
      "cell_type": "code",
      "metadata": {
        "id": "aF9zLuKvzAx4",
        "colab": {
          "base_uri": "https://localhost:8080/",
          "height": 279
        },
        "outputId": "0e477589-db99-47bf-af58-e62941f53b5b"
      },
      "source": [
        "# Alumno: Determinar cuantas personas había de cada clase\n",
        "# diferenciando por género\n",
        "# Utilice el gráfico de seaborn countplot con hue=\"Sex\"\n",
        "ax = sns.countplot(data=df_clean, x=\"Pclass\",hue='Sex')\n"
      ],
      "execution_count": 109,
      "outputs": [
        {
          "output_type": "display_data",
          "data": {
            "image/png": "[encoded data removed]",
            "text/plain": [
              "<Figure size 432x288 with 1 Axes>"
            ]
          },
          "metadata": {
            "needs_background": "light"
          }
        }
      ]
    },
    {
      "cell_type": "markdown",
      "metadata": {
        "id": "ZdfLMthm0yyY"
      },
      "source": [
        "#### Transformar variables categóricas texto a clases numeradas"
      ]
    },
    {
      "cell_type": "code",
      "metadata": {
        "id": "GJlDmX_F1ksA"
      },
      "source": [
        "from sklearn.preprocessing import LabelEncoder"
      ],
      "execution_count": 110,
      "outputs": []
    },
    {
      "cell_type": "code",
      "metadata": {
        "id": "F92KfUW_2CSB"
      },
      "source": [
        "# Alumno, cree un dataset df_cod como copia del que viene trabajando\n",
        "df_cod = df_clean.copy()\n"
      ],
      "execution_count": 111,
      "outputs": []
    },
    {
      "cell_type": "code",
      "metadata": {
        "id": "Lqa4Qq9dEGzr",
        "colab": {
          "base_uri": "https://localhost:8080/",
          "height": 206
        },
        "outputId": "db24d52c-12df-4671-ade7-55e7f652fcfb"
      },
      "source": [
        "# Utiliza el LabelEncoder para codificar la columna Sex, remplazando\n",
        "# esa columna por la nueva en el dataset nuevo que acaba de generar\n",
        "# Recuerde conservar el encoder!\n",
        "le = LabelEncoder()\n",
        "label_encoding = le.fit_transform(df_cod['Sex'])\n",
        "df_cod['Sex'] = label_encoding\n",
        "df_cod.head()"
      ],
      "execution_count": 112,
      "outputs": [
        {
          "output_type": "execute_result",
          "data": {
            "text/html": [
              "<div>\n",
              "<style scoped>\n",
              "    .dataframe tbody tr th:only-of-type {\n",
              "        vertical-align: middle;\n",
              "    }\n",
              "\n",
              "    .dataframe tbody tr th {\n",
              "        vertical-align: top;\n",
              "    }\n",
              "\n",
              "    .dataframe thead th {\n",
              "        text-align: right;\n",
              "    }\n",
              "</style>\n",
              "<table border=\"1\" class=\"dataframe\">\n",
              "  <thead>\n",
              "    <tr style=\"text-align: right;\">\n",
              "      <th></th>\n",
              "      <th>Survived</th>\n",
              "      <th>Pclass</th>\n",
              "      <th>Sex</th>\n",
              "      <th>Age</th>\n",
              "      <th>SibSp</th>\n",
              "      <th>Parch</th>\n",
              "    </tr>\n",
              "  </thead>\n",
              "  <tbody>\n",
              "    <tr>\n",
              "      <th>0</th>\n",
              "      <td>0</td>\n",
              "      <td>3</td>\n",
              "      <td>1</td>\n",
              "      <td>22.0</td>\n",
              "      <td>1</td>\n",
              "      <td>0</td>\n",
              "    </tr>\n",
              "    <tr>\n",
              "      <th>1</th>\n",
              "      <td>1</td>\n",
              "      <td>1</td>\n",
              "      <td>0</td>\n",
              "      <td>38.0</td>\n",
              "      <td>1</td>\n",
              "      <td>0</td>\n",
              "    </tr>\n",
              "    <tr>\n",
              "      <th>2</th>\n",
              "      <td>1</td>\n",
              "      <td>3</td>\n",
              "      <td>0</td>\n",
              "      <td>26.0</td>\n",
              "      <td>0</td>\n",
              "      <td>0</td>\n",
              "    </tr>\n",
              "    <tr>\n",
              "      <th>3</th>\n",
              "      <td>1</td>\n",
              "      <td>1</td>\n",
              "      <td>0</td>\n",
              "      <td>35.0</td>\n",
              "      <td>1</td>\n",
              "      <td>0</td>\n",
              "    </tr>\n",
              "    <tr>\n",
              "      <th>4</th>\n",
              "      <td>0</td>\n",
              "      <td>3</td>\n",
              "      <td>1</td>\n",
              "      <td>35.0</td>\n",
              "      <td>0</td>\n",
              "      <td>0</td>\n",
              "    </tr>\n",
              "  </tbody>\n",
              "</table>\n",
              "</div>"
            ],
            "text/plain": [
              "   Survived  Pclass  Sex   Age  SibSp  Parch\n",
              "0         0       3    1  22.0      1      0\n",
              "1         1       1    0  38.0      1      0\n",
              "2         1       3    0  26.0      0      0\n",
              "3         1       1    0  35.0      1      0\n",
              "4         0       3    1  35.0      0      0"
            ]
          },
          "metadata": {},
          "execution_count": 112
        }
      ]
    },
    {
      "cell_type": "code",
      "metadata": {
        "id": "WNnJf9vG2dad",
        "colab": {
          "base_uri": "https://localhost:8080/"
        },
        "outputId": "fbcc3e13-c774-4d01-e0f5-62790fd4b66d"
      },
      "source": [
        "# Alumno,  imprimir las clases que ha detectado su encoder\n",
        "# (debe llamar al atributo classes_)\n",
        "le.classes_"
      ],
      "execution_count": 113,
      "outputs": [
        {
          "output_type": "execute_result",
          "data": {
            "text/plain": [
              "array(['female', 'male'], dtype=object)"
            ]
          },
          "metadata": {},
          "execution_count": 113
        }
      ]
    },
    {
      "cell_type": "code",
      "metadata": {
        "id": "MoTnc2ayGzha",
        "colab": {
          "base_uri": "https://localhost:8080/",
          "height": 386
        },
        "outputId": "451defd5-b28b-4891-b932-843d292b3ea9"
      },
      "source": [
        "# Alumno: Analizar la distribución de la edad\n",
        "sns.displot(x=df_cod['Age'])"
      ],
      "execution_count": 114,
      "outputs": [
        {
          "output_type": "execute_result",
          "data": {
            "text/plain": [
              "<seaborn.axisgrid.FacetGrid at 0x7f6f6412b350>"
            ]
          },
          "metadata": {},
          "execution_count": 114
        },
        {
          "output_type": "display_data",
          "data": {
            "image/png": "[encoded data removed]",
            "text/plain": [
              "<Figure size 360x360 with 1 Axes>"
            ]
          },
          "metadata": {
            "needs_background": "light"
          }
        }
      ]
    },
    {
      "cell_type": "code",
      "metadata": {
        "id": "Q1pO_7A_HsqA"
      },
      "source": [
        "# Alumno, cree un dataset df_cod como copia del que viene trabajando\n",
        "df_norm = df_cod.copy()"
      ],
      "execution_count": 115,
      "outputs": []
    },
    {
      "cell_type": "code",
      "metadata": {
        "id": "55eENaMEHKxA",
        "colab": {
          "base_uri": "https://localhost:8080/",
          "height": 206
        },
        "outputId": "d850dcc1-2807-4380-ce20-b04299f1ab12"
      },
      "source": [
        "# Alumno: utilizar StandarScaler para normalizar la column de \"Age\"\n",
        "# Conservar el scaler que lo necesitará para el final\n",
        "from sklearn.preprocessing import StandardScaler\n",
        "scaler = StandardScaler()\n",
        "df_norm.loc[:, 'Age'] = scaler.fit_transform(df_norm[['Age']])\n",
        "df_norm.head()"
      ],
      "execution_count": 116,
      "outputs": [
        {
          "output_type": "execute_result",
          "data": {
            "text/html": [
              "<div>\n",
              "<style scoped>\n",
              "    .dataframe tbody tr th:only-of-type {\n",
              "        vertical-align: middle;\n",
              "    }\n",
              "\n",
              "    .dataframe tbody tr th {\n",
              "        vertical-align: top;\n",
              "    }\n",
              "\n",
              "    .dataframe thead th {\n",
              "        text-align: right;\n",
              "    }\n",
              "</style>\n",
              "<table border=\"1\" class=\"dataframe\">\n",
              "  <thead>\n",
              "    <tr style=\"text-align: right;\">\n",
              "      <th></th>\n",
              "      <th>Survived</th>\n",
              "      <th>Pclass</th>\n",
              "      <th>Sex</th>\n",
              "      <th>Age</th>\n",
              "      <th>SibSp</th>\n",
              "      <th>Parch</th>\n",
              "    </tr>\n",
              "  </thead>\n",
              "  <tbody>\n",
              "    <tr>\n",
              "      <th>0</th>\n",
              "      <td>0</td>\n",
              "      <td>3</td>\n",
              "      <td>1</td>\n",
              "      <td>-0.530377</td>\n",
              "      <td>1</td>\n",
              "      <td>0</td>\n",
              "    </tr>\n",
              "    <tr>\n",
              "      <th>1</th>\n",
              "      <td>1</td>\n",
              "      <td>1</td>\n",
              "      <td>0</td>\n",
              "      <td>0.571831</td>\n",
              "      <td>1</td>\n",
              "      <td>0</td>\n",
              "    </tr>\n",
              "    <tr>\n",
              "      <th>2</th>\n",
              "      <td>1</td>\n",
              "      <td>3</td>\n",
              "      <td>0</td>\n",
              "      <td>-0.254825</td>\n",
              "      <td>0</td>\n",
              "      <td>0</td>\n",
              "    </tr>\n",
              "    <tr>\n",
              "      <th>3</th>\n",
              "      <td>1</td>\n",
              "      <td>1</td>\n",
              "      <td>0</td>\n",
              "      <td>0.365167</td>\n",
              "      <td>1</td>\n",
              "      <td>0</td>\n",
              "    </tr>\n",
              "    <tr>\n",
              "      <th>4</th>\n",
              "      <td>0</td>\n",
              "      <td>3</td>\n",
              "      <td>1</td>\n",
              "      <td>0.365167</td>\n",
              "      <td>0</td>\n",
              "      <td>0</td>\n",
              "    </tr>\n",
              "  </tbody>\n",
              "</table>\n",
              "</div>"
            ],
            "text/plain": [
              "   Survived  Pclass  Sex       Age  SibSp  Parch\n",
              "0         0       3    1 -0.530377      1      0\n",
              "1         1       1    0  0.571831      1      0\n",
              "2         1       3    0 -0.254825      0      0\n",
              "3         1       1    0  0.365167      1      0\n",
              "4         0       3    1  0.365167      0      0"
            ]
          },
          "metadata": {},
          "execution_count": 116
        }
      ]
    },
    {
      "cell_type": "markdown",
      "metadata": {
        "id": "7z_SuZlj3gbQ"
      },
      "source": [
        "# Entrenar modelo\n",
        "<img src=\"https://raw.githubusercontent.com/InoveAlumnos/dataset_analytics_python/master/images/Pipeline4.png\" width=\"1000\" align=\"middle\">"
      ]
    },
    {
      "cell_type": "markdown",
      "metadata": {
        "id": "ntY84fHj3q5q"
      },
      "source": [
        "El primer paso es obtener los datos que serán la entrada del sistema (X) y los datos que serán la salida del modelo estimador (y)"
      ]
    },
    {
      "cell_type": "code",
      "metadata": {
        "id": "EIg2_OQ43fqZ"
      },
      "source": [
        "# Alumno: genere un numpy array \"X\" que posea todos los feutres (todo menos Survived)\n",
        "# genere un array numpy \"y\" de solo la columna Survived\n",
        "X = df_norm.drop('Survived', axis=1).values\n",
        "y = df_norm['Survived'].values\n",
        "\n"
      ],
      "execution_count": 117,
      "outputs": []
    },
    {
      "cell_type": "code",
      "metadata": {
        "id": "80EhnBgTJAiU",
        "colab": {
          "base_uri": "https://localhost:8080/"
        },
        "outputId": "5cde081a-91e7-4474-f426-3caa35cb9759"
      },
      "source": [
        "# Alumno: obtener la cantidad de features (cantidad de columnas)\n",
        "# y almacenar en in_shapen_shape = X.shape[1]\n",
        "in_shapen_shape = X.shape[1]\n",
        "in_shapen_shape"
      ],
      "execution_count": 118,
      "outputs": [
        {
          "output_type": "execute_result",
          "data": {
            "text/plain": [
              "5"
            ]
          },
          "metadata": {},
          "execution_count": 118
        }
      ]
    },
    {
      "cell_type": "code",
      "metadata": {
        "id": "bW7yowUVJI0v"
      },
      "source": [
        "# Alumno: crear una variable out_shape indicando cuandas neuronas de salida desea\n",
        "out_shape = 1"
      ],
      "execution_count": 119,
      "outputs": []
    },
    {
      "cell_type": "markdown",
      "metadata": {
        "id": "sbr-SnON4LuM"
      },
      "source": [
        "Siguiente paso es dividir el dataset en entrenamiento (train) y evaluación (test). Utilizaremos el criterio 80%20%"
      ]
    },
    {
      "cell_type": "code",
      "metadata": {
        "id": "BVD4YkjS4MW2"
      },
      "source": [
        "# Alumno, generar los dataset de train y test superando en 80%20%\n",
        "from sklearn.model_selection import train_test_split\n",
        "X_train, X_test, y_train, y_test = train_test_split(X, y, test_size=0.2, random_state=42)"
      ],
      "execution_count": 120,
      "outputs": []
    },
    {
      "cell_type": "code",
      "metadata": {
        "id": "ZRw2jgPl4Xuc"
      },
      "source": [
        "from keras.layers import Dense\n",
        "# Alumno: crear un modelo secuencial de dos capas (hidden y output).\n",
        "# Coloque correctamente el valor de in_shape y out_shape en el modelo\n",
        "# pero seleccione por su cuenta la cantidad de neuronas en la capa oculta\n",
        "model = Sequential()\n",
        "    \n",
        "model.add(Dense(units=64, activation='sigmoid', input_shape=(in_shapen_shape,)))\n",
        "model.add(Dense(units=out_shape, activation='sigmoid'))"
      ],
      "execution_count": 121,
      "outputs": []
    },
    {
      "cell_type": "code",
      "metadata": {
        "id": "BzH_dPq7K8yU"
      },
      "source": [
        "# Alumno: compilar el modelo con binary_crossentropy y métrica de \"accuracy\"\n",
        "model.compile(optimizer=\"Adam\",\n",
        "              loss='binary_crossentropy',\n",
        "              metrics=['accuracy'])"
      ],
      "execution_count": 122,
      "outputs": []
    },
    {
      "cell_type": "code",
      "metadata": {
        "id": "P1q1Z7voLPYb",
        "colab": {
          "base_uri": "https://localhost:8080/"
        },
        "outputId": "1981c1ca-8289-492e-db9e-07145e048faf"
      },
      "source": [
        "# Alumno: entrenar el modelo, seleccionar un 20% para el dataset de validacion\n",
        "# Queda a su gusto seleccionar la cantidad de épocas\n",
        "# Almacenar la salida del fit en una variable \"history\"\n",
        "history = model.fit(X_train, y_train, validation_split=0.2 , epochs=80)"
      ],
      "execution_count": 123,
      "outputs": [
        {
          "output_type": "stream",
          "name": "stdout",
          "text": [
            "Epoch 1/80\n",
            "15/15 [==============================] - 1s 15ms/step - loss: 0.6598 - accuracy: 0.6009 - val_loss: 0.6737 - val_accuracy: 0.5478\n",
            "Epoch 2/80\n",
            "15/15 [==============================] - 0s 5ms/step - loss: 0.6474 - accuracy: 0.6009 - val_loss: 0.6718 - val_accuracy: 0.5478\n",
            "Epoch 3/80\n",
            "15/15 [==============================] - 0s 3ms/step - loss: 0.6394 - accuracy: 0.5987 - val_loss: 0.6610 - val_accuracy: 0.5478\n",
            "Epoch 4/80\n",
            "15/15 [==============================] - 0s 5ms/step - loss: 0.6310 - accuracy: 0.5987 - val_loss: 0.6578 - val_accuracy: 0.5478\n",
            "Epoch 5/80\n",
            "15/15 [==============================] - 0s 4ms/step - loss: 0.6235 - accuracy: 0.6075 - val_loss: 0.6474 - val_accuracy: 0.5739\n",
            "Epoch 6/80\n",
            "15/15 [==============================] - 0s 3ms/step - loss: 0.6162 - accuracy: 0.6404 - val_loss: 0.6417 - val_accuracy: 0.5913\n",
            "Epoch 7/80\n",
            "15/15 [==============================] - 0s 3ms/step - loss: 0.6093 - accuracy: 0.6579 - val_loss: 0.6345 - val_accuracy: 0.6348\n",
            "Epoch 8/80\n",
            "15/15 [==============================] - 0s 4ms/step - loss: 0.6016 - accuracy: 0.6557 - val_loss: 0.6336 - val_accuracy: 0.6174\n",
            "Epoch 9/80\n",
            "15/15 [==============================] - 0s 4ms/step - loss: 0.5960 - accuracy: 0.6469 - val_loss: 0.6298 - val_accuracy: 0.6348\n",
            "Epoch 10/80\n",
            "15/15 [==============================] - 0s 6ms/step - loss: 0.5890 - accuracy: 0.6623 - val_loss: 0.6231 - val_accuracy: 0.6348\n",
            "Epoch 11/80\n",
            "15/15 [==============================] - 0s 4ms/step - loss: 0.5829 - accuracy: 0.6864 - val_loss: 0.6163 - val_accuracy: 0.6435\n",
            "Epoch 12/80\n",
            "15/15 [==============================] - 0s 4ms/step - loss: 0.5785 - accuracy: 0.6908 - val_loss: 0.6149 - val_accuracy: 0.6522\n",
            "Epoch 13/80\n",
            "15/15 [==============================] - 0s 3ms/step - loss: 0.5720 - accuracy: 0.7018 - val_loss: 0.6089 - val_accuracy: 0.6609\n",
            "Epoch 14/80\n",
            "15/15 [==============================] - 0s 5ms/step - loss: 0.5661 - accuracy: 0.7346 - val_loss: 0.6014 - val_accuracy: 0.6870\n",
            "Epoch 15/80\n",
            "15/15 [==============================] - 0s 5ms/step - loss: 0.5615 - accuracy: 0.7434 - val_loss: 0.5977 - val_accuracy: 0.6870\n",
            "Epoch 16/80\n",
            "15/15 [==============================] - 0s 4ms/step - loss: 0.5555 - accuracy: 0.7522 - val_loss: 0.5895 - val_accuracy: 0.7130\n",
            "Epoch 17/80\n",
            "15/15 [==============================] - 0s 4ms/step - loss: 0.5504 - accuracy: 0.7610 - val_loss: 0.5898 - val_accuracy: 0.7043\n",
            "Epoch 18/80\n",
            "15/15 [==============================] - 0s 4ms/step - loss: 0.5453 - accuracy: 0.7632 - val_loss: 0.5822 - val_accuracy: 0.7130\n",
            "Epoch 19/80\n",
            "15/15 [==============================] - 0s 5ms/step - loss: 0.5411 - accuracy: 0.7719 - val_loss: 0.5789 - val_accuracy: 0.7217\n",
            "Epoch 20/80\n",
            "15/15 [==============================] - 0s 4ms/step - loss: 0.5361 - accuracy: 0.7632 - val_loss: 0.5779 - val_accuracy: 0.7043\n",
            "Epoch 21/80\n",
            "15/15 [==============================] - 0s 3ms/step - loss: 0.5344 - accuracy: 0.7478 - val_loss: 0.5785 - val_accuracy: 0.7043\n",
            "Epoch 22/80\n",
            "15/15 [==============================] - 0s 3ms/step - loss: 0.5273 - accuracy: 0.7654 - val_loss: 0.5656 - val_accuracy: 0.7304\n",
            "Epoch 23/80\n",
            "15/15 [==============================] - 0s 3ms/step - loss: 0.5232 - accuracy: 0.7982 - val_loss: 0.5608 - val_accuracy: 0.7391\n",
            "Epoch 24/80\n",
            "15/15 [==============================] - 0s 3ms/step - loss: 0.5191 - accuracy: 0.8004 - val_loss: 0.5569 - val_accuracy: 0.7391\n",
            "Epoch 25/80\n",
            "15/15 [==============================] - 0s 3ms/step - loss: 0.5152 - accuracy: 0.8092 - val_loss: 0.5515 - val_accuracy: 0.7565\n",
            "Epoch 26/80\n",
            "15/15 [==============================] - 0s 4ms/step - loss: 0.5109 - accuracy: 0.8004 - val_loss: 0.5510 - val_accuracy: 0.7304\n",
            "Epoch 27/80\n",
            "15/15 [==============================] - 0s 4ms/step - loss: 0.5071 - accuracy: 0.8048 - val_loss: 0.5458 - val_accuracy: 0.7652\n",
            "Epoch 28/80\n",
            "15/15 [==============================] - 0s 4ms/step - loss: 0.5034 - accuracy: 0.8048 - val_loss: 0.5432 - val_accuracy: 0.7652\n",
            "Epoch 29/80\n",
            "15/15 [==============================] - 0s 4ms/step - loss: 0.4999 - accuracy: 0.8092 - val_loss: 0.5395 - val_accuracy: 0.7652\n",
            "Epoch 30/80\n",
            "15/15 [==============================] - 0s 3ms/step - loss: 0.4961 - accuracy: 0.8070 - val_loss: 0.5378 - val_accuracy: 0.7565\n",
            "Epoch 31/80\n",
            "15/15 [==============================] - 0s 3ms/step - loss: 0.4932 - accuracy: 0.8158 - val_loss: 0.5334 - val_accuracy: 0.7565\n",
            "Epoch 32/80\n",
            "15/15 [==============================] - 0s 3ms/step - loss: 0.4899 - accuracy: 0.8114 - val_loss: 0.5341 - val_accuracy: 0.7565\n",
            "Epoch 33/80\n",
            "15/15 [==============================] - 0s 3ms/step - loss: 0.4860 - accuracy: 0.8202 - val_loss: 0.5291 - val_accuracy: 0.7478\n",
            "Epoch 34/80\n",
            "15/15 [==============================] - 0s 3ms/step - loss: 0.4830 - accuracy: 0.8289 - val_loss: 0.5241 - val_accuracy: 0.7478\n",
            "Epoch 35/80\n",
            "15/15 [==============================] - 0s 3ms/step - loss: 0.4813 - accuracy: 0.8202 - val_loss: 0.5203 - val_accuracy: 0.7565\n",
            "Epoch 36/80\n",
            "15/15 [==============================] - 0s 3ms/step - loss: 0.4773 - accuracy: 0.8289 - val_loss: 0.5238 - val_accuracy: 0.7478\n",
            "Epoch 37/80\n",
            "15/15 [==============================] - 0s 4ms/step - loss: 0.4746 - accuracy: 0.8268 - val_loss: 0.5181 - val_accuracy: 0.7565\n",
            "Epoch 38/80\n",
            "15/15 [==============================] - 0s 4ms/step - loss: 0.4716 - accuracy: 0.8224 - val_loss: 0.5121 - val_accuracy: 0.7652\n",
            "Epoch 39/80\n",
            "15/15 [==============================] - 0s 4ms/step - loss: 0.4695 - accuracy: 0.8289 - val_loss: 0.5167 - val_accuracy: 0.7478\n",
            "Epoch 40/80\n",
            "15/15 [==============================] - 0s 3ms/step - loss: 0.4666 - accuracy: 0.8289 - val_loss: 0.5094 - val_accuracy: 0.7652\n",
            "Epoch 41/80\n",
            "15/15 [==============================] - 0s 3ms/step - loss: 0.4642 - accuracy: 0.8202 - val_loss: 0.5093 - val_accuracy: 0.7652\n",
            "Epoch 42/80\n",
            "15/15 [==============================] - 0s 3ms/step - loss: 0.4620 - accuracy: 0.8224 - val_loss: 0.5084 - val_accuracy: 0.7652\n",
            "Epoch 43/80\n",
            "15/15 [==============================] - 0s 4ms/step - loss: 0.4599 - accuracy: 0.8180 - val_loss: 0.5072 - val_accuracy: 0.7652\n",
            "Epoch 44/80\n",
            "15/15 [==============================] - 0s 4ms/step - loss: 0.4583 - accuracy: 0.8224 - val_loss: 0.5066 - val_accuracy: 0.7739\n",
            "Epoch 45/80\n",
            "15/15 [==============================] - 0s 5ms/step - loss: 0.4560 - accuracy: 0.8224 - val_loss: 0.5041 - val_accuracy: 0.7652\n",
            "Epoch 46/80\n",
            "15/15 [==============================] - 0s 4ms/step - loss: 0.4546 - accuracy: 0.8180 - val_loss: 0.4998 - val_accuracy: 0.7739\n",
            "Epoch 47/80\n",
            "15/15 [==============================] - 0s 5ms/step - loss: 0.4532 - accuracy: 0.8202 - val_loss: 0.4998 - val_accuracy: 0.7739\n",
            "Epoch 48/80\n",
            "15/15 [==============================] - 0s 3ms/step - loss: 0.4508 - accuracy: 0.8180 - val_loss: 0.4945 - val_accuracy: 0.7652\n",
            "Epoch 49/80\n",
            "15/15 [==============================] - 0s 3ms/step - loss: 0.4494 - accuracy: 0.8136 - val_loss: 0.4938 - val_accuracy: 0.7739\n",
            "Epoch 50/80\n",
            "15/15 [==============================] - 0s 4ms/step - loss: 0.4483 - accuracy: 0.8136 - val_loss: 0.4941 - val_accuracy: 0.7739\n",
            "Epoch 51/80\n",
            "15/15 [==============================] - 0s 3ms/step - loss: 0.4466 - accuracy: 0.8246 - val_loss: 0.4961 - val_accuracy: 0.7826\n",
            "Epoch 52/80\n",
            "15/15 [==============================] - 0s 3ms/step - loss: 0.4446 - accuracy: 0.8202 - val_loss: 0.4930 - val_accuracy: 0.7826\n",
            "Epoch 53/80\n",
            "15/15 [==============================] - 0s 3ms/step - loss: 0.4436 - accuracy: 0.8158 - val_loss: 0.4859 - val_accuracy: 0.7739\n",
            "Epoch 54/80\n",
            "15/15 [==============================] - 0s 4ms/step - loss: 0.4434 - accuracy: 0.8114 - val_loss: 0.4878 - val_accuracy: 0.7913\n",
            "Epoch 55/80\n",
            "15/15 [==============================] - 0s 4ms/step - loss: 0.4412 - accuracy: 0.8114 - val_loss: 0.4909 - val_accuracy: 0.7826\n",
            "Epoch 56/80\n",
            "15/15 [==============================] - 0s 5ms/step - loss: 0.4404 - accuracy: 0.8114 - val_loss: 0.4881 - val_accuracy: 0.7826\n",
            "Epoch 57/80\n",
            "15/15 [==============================] - 0s 3ms/step - loss: 0.4389 - accuracy: 0.8114 - val_loss: 0.4869 - val_accuracy: 0.7913\n",
            "Epoch 58/80\n",
            "15/15 [==============================] - 0s 5ms/step - loss: 0.4395 - accuracy: 0.8114 - val_loss: 0.4825 - val_accuracy: 0.7826\n",
            "Epoch 59/80\n",
            "15/15 [==============================] - 0s 5ms/step - loss: 0.4369 - accuracy: 0.8092 - val_loss: 0.4856 - val_accuracy: 0.7913\n",
            "Epoch 60/80\n",
            "15/15 [==============================] - 0s 4ms/step - loss: 0.4362 - accuracy: 0.8092 - val_loss: 0.4837 - val_accuracy: 0.7913\n",
            "Epoch 61/80\n",
            "15/15 [==============================] - 0s 4ms/step - loss: 0.4352 - accuracy: 0.8092 - val_loss: 0.4831 - val_accuracy: 0.7913\n",
            "Epoch 62/80\n",
            "15/15 [==============================] - 0s 4ms/step - loss: 0.4344 - accuracy: 0.8070 - val_loss: 0.4825 - val_accuracy: 0.7913\n",
            "Epoch 63/80\n",
            "15/15 [==============================] - 0s 3ms/step - loss: 0.4343 - accuracy: 0.8070 - val_loss: 0.4810 - val_accuracy: 0.7913\n",
            "Epoch 64/80\n",
            "15/15 [==============================] - 0s 4ms/step - loss: 0.4328 - accuracy: 0.8092 - val_loss: 0.4840 - val_accuracy: 0.7913\n",
            "Epoch 65/80\n",
            "15/15 [==============================] - 0s 4ms/step - loss: 0.4325 - accuracy: 0.8180 - val_loss: 0.4851 - val_accuracy: 0.7913\n",
            "Epoch 66/80\n",
            "15/15 [==============================] - 0s 3ms/step - loss: 0.4326 - accuracy: 0.8224 - val_loss: 0.4849 - val_accuracy: 0.7913\n",
            "Epoch 67/80\n",
            "15/15 [==============================] - 0s 4ms/step - loss: 0.4309 - accuracy: 0.8092 - val_loss: 0.4793 - val_accuracy: 0.7913\n",
            "Epoch 68/80\n",
            "15/15 [==============================] - 0s 3ms/step - loss: 0.4313 - accuracy: 0.8070 - val_loss: 0.4731 - val_accuracy: 0.7826\n",
            "Epoch 69/80\n",
            "15/15 [==============================] - 0s 4ms/step - loss: 0.4300 - accuracy: 0.8004 - val_loss: 0.4780 - val_accuracy: 0.7913\n",
            "Epoch 70/80\n",
            "15/15 [==============================] - 0s 4ms/step - loss: 0.4299 - accuracy: 0.8158 - val_loss: 0.4799 - val_accuracy: 0.7913\n",
            "Epoch 71/80\n",
            "15/15 [==============================] - 0s 4ms/step - loss: 0.4294 - accuracy: 0.8180 - val_loss: 0.4797 - val_accuracy: 0.7913\n",
            "Epoch 72/80\n",
            "15/15 [==============================] - 0s 3ms/step - loss: 0.4286 - accuracy: 0.8092 - val_loss: 0.4776 - val_accuracy: 0.7913\n",
            "Epoch 73/80\n",
            "15/15 [==============================] - 0s 3ms/step - loss: 0.4282 - accuracy: 0.8048 - val_loss: 0.4755 - val_accuracy: 0.7913\n",
            "Epoch 74/80\n",
            "15/15 [==============================] - 0s 3ms/step - loss: 0.4278 - accuracy: 0.8048 - val_loss: 0.4760 - val_accuracy: 0.7913\n",
            "Epoch 75/80\n",
            "15/15 [==============================] - 0s 4ms/step - loss: 0.4270 - accuracy: 0.8048 - val_loss: 0.4769 - val_accuracy: 0.7913\n",
            "Epoch 76/80\n",
            "15/15 [==============================] - 0s 4ms/step - loss: 0.4266 - accuracy: 0.8114 - val_loss: 0.4793 - val_accuracy: 0.7913\n",
            "Epoch 77/80\n",
            "15/15 [==============================] - 0s 5ms/step - loss: 0.4261 - accuracy: 0.8114 - val_loss: 0.4774 - val_accuracy: 0.7913\n",
            "Epoch 78/80\n",
            "15/15 [==============================] - 0s 3ms/step - loss: 0.4257 - accuracy: 0.8092 - val_loss: 0.4755 - val_accuracy: 0.7913\n",
            "Epoch 79/80\n",
            "15/15 [==============================] - 0s 3ms/step - loss: 0.4257 - accuracy: 0.8026 - val_loss: 0.4726 - val_accuracy: 0.7913\n",
            "Epoch 80/80\n",
            "15/15 [==============================] - 0s 5ms/step - loss: 0.4248 - accuracy: 0.8070 - val_loss: 0.4773 - val_accuracy: 0.7913\n"
          ]
        }
      ]
    },
    {
      "cell_type": "code",
      "metadata": {
        "id": "12SHo7bDLpHk",
        "colab": {
          "base_uri": "https://localhost:8080/",
          "height": 265
        },
        "outputId": "2a15c54d-b604-4286-edd0-9408c6ce042f"
      },
      "source": [
        "# Alumno: Graficar la evolución del accuracy durante el entrenamiento\n",
        "# tanto para el dataset de train y el de valid en un gráfico\n",
        "# plot line\n",
        "epoch_count = range(1, len(history.history['accuracy']) + 1)\n",
        "sns.lineplot(x=epoch_count,  y=history.history['accuracy'], label='train')\n",
        "sns.lineplot(x=epoch_count,  y=history.history['val_accuracy'], label='valid')\n",
        "plt.show()"
      ],
      "execution_count": 124,
      "outputs": [
        {
          "output_type": "display_data",
          "data": {
            "image/png": "[encoded data removed]",
            "text/plain": [
              "<Figure size 432x288 with 1 Axes>"
            ]
          },
          "metadata": {
            "needs_background": "light"
          }
        }
      ]
    },
    {
      "cell_type": "code",
      "metadata": {
        "id": "rMuNNR9HL97_",
        "colab": {
          "base_uri": "https://localhost:8080/"
        },
        "outputId": "67cff6e7-4979-4d90-c51a-919c4292b20d"
      },
      "source": [
        "# Alumno: obtener la probabilidad de sobreviir (y_hat_prob)\n",
        "# realizando una prediccion (predict) con el dataset de test\n",
        "y_hat_prob = model.predict(X_test)\n",
        "y_hat_prob"
      ],
      "execution_count": 130,
      "outputs": [
        {
          "output_type": "execute_result",
          "data": {
            "text/plain": [
              "array([[0.15066427],\n",
              "       [0.4424862 ],\n",
              "       [0.74515736],\n",
              "       [0.9418344 ],\n",
              "       [0.07071146],\n",
              "       [0.38473424],\n",
              "       [0.34904516],\n",
              "       [0.544979  ],\n",
              "       [0.5682736 ],\n",
              "       [0.6259294 ],\n",
              "       [0.9454998 ],\n",
              "       [0.7627046 ],\n",
              "       [0.37054884],\n",
              "       [0.08216092],\n",
              "       [0.9039111 ],\n",
              "       [0.20764986],\n",
              "       [0.13240597],\n",
              "       [0.96247214],\n",
              "       [0.24105942],\n",
              "       [0.7493212 ],\n",
              "       [0.428543  ],\n",
              "       [0.60431397],\n",
              "       [0.7308048 ],\n",
              "       [0.3828929 ],\n",
              "       [0.13948613],\n",
              "       [0.16629082],\n",
              "       [0.1722863 ],\n",
              "       [0.11314929],\n",
              "       [0.6593187 ],\n",
              "       [0.08216092],\n",
              "       [0.58591074],\n",
              "       [0.6870608 ],\n",
              "       [0.37301785],\n",
              "       [0.09025705],\n",
              "       [0.06412026],\n",
              "       [0.4168272 ],\n",
              "       [0.1640167 ],\n",
              "       [0.21918628],\n",
              "       [0.19306785],\n",
              "       [0.056651  ],\n",
              "       [0.24780843],\n",
              "       [0.1495961 ],\n",
              "       [0.88724935],\n",
              "       [0.1068911 ],\n",
              "       [0.22129545],\n",
              "       [0.79213107],\n",
              "       [0.7117018 ],\n",
              "       [0.554669  ],\n",
              "       [0.33552462],\n",
              "       [0.7962327 ],\n",
              "       [0.316059  ],\n",
              "       [0.8297693 ],\n",
              "       [0.4107751 ],\n",
              "       [0.113536  ],\n",
              "       [0.12573412],\n",
              "       [0.5159675 ],\n",
              "       [0.45691928],\n",
              "       [0.14886096],\n",
              "       [0.10202187],\n",
              "       [0.08717179],\n",
              "       [0.7606875 ],\n",
              "       [0.12573412],\n",
              "       [0.59961736],\n",
              "       [0.16629082],\n",
              "       [0.3102767 ],\n",
              "       [0.27805507],\n",
              "       [0.2572156 ],\n",
              "       [0.95042944],\n",
              "       [0.10273626],\n",
              "       [0.40320748],\n",
              "       [0.16629082],\n",
              "       [0.72753394],\n",
              "       [0.14938292],\n",
              "       [0.1495961 ],\n",
              "       [0.06675333],\n",
              "       [0.12470198],\n",
              "       [0.3102767 ],\n",
              "       [0.1605143 ],\n",
              "       [0.5391769 ],\n",
              "       [0.6314127 ],\n",
              "       [0.5379502 ],\n",
              "       [0.37054884],\n",
              "       [0.3761963 ],\n",
              "       [0.15495127],\n",
              "       [0.12573412],\n",
              "       [0.65952176],\n",
              "       [0.55952144],\n",
              "       [0.07614076],\n",
              "       [0.15495127],\n",
              "       [0.29151607],\n",
              "       [0.2934023 ],\n",
              "       [0.89035654],\n",
              "       [0.5889224 ],\n",
              "       [0.09258777],\n",
              "       [0.7624789 ],\n",
              "       [0.5914936 ],\n",
              "       [0.9418344 ],\n",
              "       [0.44588   ],\n",
              "       [0.21907929],\n",
              "       [0.55143404],\n",
              "       [0.8000828 ],\n",
              "       [0.86203134],\n",
              "       [0.10619017],\n",
              "       [0.67366767],\n",
              "       [0.8884628 ],\n",
              "       [0.1640167 ],\n",
              "       [0.1495961 ],\n",
              "       [0.32462436],\n",
              "       [0.0686917 ],\n",
              "       [0.6517444 ],\n",
              "       [0.113536  ],\n",
              "       [0.14444304],\n",
              "       [0.12327215],\n",
              "       [0.24335575],\n",
              "       [0.16629082],\n",
              "       [0.54499197],\n",
              "       [0.08424196],\n",
              "       [0.6647765 ],\n",
              "       [0.10978818],\n",
              "       [0.07071146],\n",
              "       [0.9454998 ],\n",
              "       [0.10193416],\n",
              "       [0.10543138],\n",
              "       [0.1495961 ],\n",
              "       [0.9303065 ],\n",
              "       [0.12150317],\n",
              "       [0.14444304],\n",
              "       [0.87344974],\n",
              "       [0.10978818],\n",
              "       [0.85861444],\n",
              "       [0.10543138],\n",
              "       [0.0830355 ],\n",
              "       [0.12150317],\n",
              "       [0.74937236],\n",
              "       [0.17199036],\n",
              "       [0.13948613],\n",
              "       [0.09623978],\n",
              "       [0.37923634],\n",
              "       [0.13905   ],\n",
              "       [0.15152007],\n",
              "       [0.09025705],\n",
              "       [0.84977067],\n",
              "       [0.95919144]], dtype=float32)"
            ]
          },
          "metadata": {},
          "execution_count": 130
        }
      ]
    },
    {
      "cell_type": "code",
      "metadata": {
        "id": "MiLJQi_gMIsS"
      },
      "source": [
        "# Alumno: transformar las probabilidads en 0 y 1, si la probabilidad es\n",
        "# mayor o igual a 0.5 definir que la persona sobrevivió (1)\n",
        "# Estos valores guardarlos en y_hat\n",
        "y_hat = [1 if x >= 0.5 else 0 for x in y_hat_prob]"
      ],
      "execution_count": 126,
      "outputs": []
    },
    {
      "cell_type": "markdown",
      "metadata": {
        "id": "w3IfjUuI4XnD"
      },
      "source": [
        "# Validar modelo\n",
        "<img src=\"https://raw.githubusercontent.com/InoveAlumnos/dataset_analytics_python/master/images/Pipeline5.png\" width=\"1000\" align=\"middle\">"
      ]
    },
    {
      "cell_type": "code",
      "metadata": {
        "id": "CMKONtv55zL8",
        "colab": {
          "base_uri": "https://localhost:8080/"
        },
        "outputId": "9e2233fa-ba8d-4677-bb13-efb84ea6cc30"
      },
      "source": [
        "# Alumno, calcular la exactitud (accuracy) de su modelo\n",
        "from sklearn.metrics import accuracy_score\n",
        "accuracy_score(y_test, y_hat, normalize=True)"
      ],
      "execution_count": 131,
      "outputs": [
        {
          "output_type": "execute_result",
          "data": {
            "text/plain": [
              "0.7412587412587412"
            ]
          },
          "metadata": {},
          "execution_count": 131
        }
      ]
    },
    {
      "cell_type": "code",
      "metadata": {
        "id": "TeLeYLYz6ZhO",
        "colab": {
          "base_uri": "https://localhost:8080/",
          "height": 279
        },
        "outputId": "07873db9-4638-4697-c2e7-b98e74cc3cc7"
      },
      "source": [
        "# Alumno, dibujar la matriz de confusion\n",
        "# definir display_labels=['NO SOBREVIVE', 'SOBREVIVE']\n",
        "from sklearn.metrics import confusion_matrix, ConfusionMatrixDisplay\n",
        "cm = confusion_matrix(y_test, y_hat)\n",
        "cmd = ConfusionMatrixDisplay(cm, display_labels=['NO SOBREVIVE', 'SOBREVIVE'])\n",
        "cmd.plot(cmap=plt.cm.Blues)\n",
        "plt.show()"
      ],
      "execution_count": 132,
      "outputs": [
        {
          "output_type": "display_data",
          "data": {
            "image/png": "[encoded data removed]",
            "text/plain": [
              "<Figure size 432x288 with 2 Axes>"
            ]
          },
          "metadata": {
            "needs_background": "light"
          }
        }
      ]
    },
    {
      "cell_type": "markdown",
      "metadata": {
        "id": "9dZxGbjG96jR"
      },
      "source": [
        "# Utilizar modelo\n",
        "<img src=\"https://raw.githubusercontent.com/InoveAlumnos/dataset_analytics_python/master/images/Pipeline6.png\" width=\"1000\" align=\"middle\">"
      ]
    },
    {
      "cell_type": "code",
      "metadata": {
        "id": "7YH0C6473i5f",
        "colab": {
          "base_uri": "https://localhost:8080/"
        },
        "outputId": "17a5e532-b161-42b8-f472-f71fa4f50e5c"
      },
      "source": [
        "# Alumno, pona a prueba el modelo, ingrese datos ficticios y divertase un rato :)\n",
        "# Recordar que los datos de genero (Sex) ahora son numéricos para el modelo (0 o 1)\n",
        "# Debe utilizar el encoder que se generó antes para convertir los nuevos valores\n",
        "# Recordar que los datos de edad (Age) se normalizaron, debe utilizar ese\n",
        "# scaler generado para transformarlo\n",
        "\n",
        "Pclass = 1\n",
        "Sex = 'female'\n",
        "Age = 22\n",
        "SibSp = 2\n",
        "Parch = 0\n",
        "\n",
        "\n",
        "sex_encoded = int(le.transform([Sex]))\n",
        "\n",
        "age_norm = float(scaler.transform([[Age]]))\n",
        "\n",
        "X_prueba = np.array([Pclass, sex_encoded, age_norm, SibSp, Parch])\n",
        "\n",
        "X_prueba = X_prueba.reshape(1, -1)\n",
        "y_prueba = float(model.predict(X_prueba))\n",
        "\n",
        "if y_prueba >= 0.5:\n",
        "    print('Sobrevivi!')\n",
        "else:\n",
        "    print('Dead')\n",
        "\n",
        "print('Probabilidad de haber sobrevivido:', y_prueba)"
      ],
      "execution_count": 134,
      "outputs": [
        {
          "output_type": "stream",
          "name": "stdout",
          "text": [
            "Sobrevivi!\n",
            "Probabilidad de haber sobrevivido: 0.9114515781402588\n"
          ]
        },
        {
          "output_type": "stream",
          "name": "stderr",
          "text": [
            "/usr/local/lib/python3.7/dist-packages/sklearn/base.py:446: UserWarning: X does not have valid feature names, but StandardScaler was fitted with feature names\n",
            "  \"X does not have valid feature names, but\"\n"
          ]
        }
      ]
    }
  ]
}